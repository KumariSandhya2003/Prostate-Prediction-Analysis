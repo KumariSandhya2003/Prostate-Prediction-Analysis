{
 "cells": [
  {
   "cell_type": "markdown",
   "metadata": {},
   "source": [
    "## Notebook 4: \n",
    "\n",
    "For Notebook 4, repeating all the steps in Notebook 3 using the Prostate data set. The target is LPSA (log PSA test results). \n"
   ]
  },
  {
   "cell_type": "code",
   "execution_count": 14,
   "metadata": {},
   "outputs": [],
   "source": [
    "import urllib\n",
    "import requests\n",
    "import pandas as pd\n",
    "import numpy as np \n",
    "import matplotlib.pyplot as plt\n",
    "import warnings\n",
    "warnings.filterwarnings(\"ignore\")"
   ]
  },
  {
   "cell_type": "code",
   "execution_count": 15,
   "metadata": {},
   "outputs": [
    {
     "data": {
      "text/html": [
       "<div>\n",
       "<style scoped>\n",
       "    .dataframe tbody tr th:only-of-type {\n",
       "        vertical-align: middle;\n",
       "    }\n",
       "\n",
       "    .dataframe tbody tr th {\n",
       "        vertical-align: top;\n",
       "    }\n",
       "\n",
       "    .dataframe thead th {\n",
       "        text-align: right;\n",
       "    }\n",
       "</style>\n",
       "<table border=\"1\" class=\"dataframe\">\n",
       "  <thead>\n",
       "    <tr style=\"text-align: right;\">\n",
       "      <th></th>\n",
       "      <th>Obs</th>\n",
       "      <th>lcavol</th>\n",
       "      <th>lweight</th>\n",
       "      <th>age</th>\n",
       "      <th>lbph</th>\n",
       "      <th>svi</th>\n",
       "      <th>lcp</th>\n",
       "      <th>gleason</th>\n",
       "      <th>pgg45</th>\n",
       "      <th>lpsa</th>\n",
       "    </tr>\n",
       "  </thead>\n",
       "  <tbody>\n",
       "    <tr>\n",
       "      <td>0</td>\n",
       "      <td>1</td>\n",
       "      <td>-0.579818</td>\n",
       "      <td>2.769459</td>\n",
       "      <td>50</td>\n",
       "      <td>-1.386294</td>\n",
       "      <td>0</td>\n",
       "      <td>-1.386294</td>\n",
       "      <td>6</td>\n",
       "      <td>0</td>\n",
       "      <td>-0.430783</td>\n",
       "    </tr>\n",
       "    <tr>\n",
       "      <td>1</td>\n",
       "      <td>2</td>\n",
       "      <td>-0.994252</td>\n",
       "      <td>3.319626</td>\n",
       "      <td>58</td>\n",
       "      <td>-1.386294</td>\n",
       "      <td>0</td>\n",
       "      <td>-1.386294</td>\n",
       "      <td>6</td>\n",
       "      <td>0</td>\n",
       "      <td>-0.162519</td>\n",
       "    </tr>\n",
       "    <tr>\n",
       "      <td>2</td>\n",
       "      <td>3</td>\n",
       "      <td>-0.510826</td>\n",
       "      <td>2.691243</td>\n",
       "      <td>74</td>\n",
       "      <td>-1.386294</td>\n",
       "      <td>0</td>\n",
       "      <td>-1.386294</td>\n",
       "      <td>7</td>\n",
       "      <td>20</td>\n",
       "      <td>-0.162519</td>\n",
       "    </tr>\n",
       "    <tr>\n",
       "      <td>3</td>\n",
       "      <td>4</td>\n",
       "      <td>-1.203973</td>\n",
       "      <td>3.282789</td>\n",
       "      <td>58</td>\n",
       "      <td>-1.386294</td>\n",
       "      <td>0</td>\n",
       "      <td>-1.386294</td>\n",
       "      <td>6</td>\n",
       "      <td>0</td>\n",
       "      <td>-0.162519</td>\n",
       "    </tr>\n",
       "    <tr>\n",
       "      <td>4</td>\n",
       "      <td>5</td>\n",
       "      <td>0.751416</td>\n",
       "      <td>3.432373</td>\n",
       "      <td>62</td>\n",
       "      <td>-1.386294</td>\n",
       "      <td>0</td>\n",
       "      <td>-1.386294</td>\n",
       "      <td>6</td>\n",
       "      <td>0</td>\n",
       "      <td>0.371564</td>\n",
       "    </tr>\n",
       "  </tbody>\n",
       "</table>\n",
       "</div>"
      ],
      "text/plain": [
       "   Obs    lcavol   lweight  age      lbph  svi       lcp  gleason  pgg45  \\\n",
       "0    1 -0.579818  2.769459   50 -1.386294    0 -1.386294        6      0   \n",
       "1    2 -0.994252  3.319626   58 -1.386294    0 -1.386294        6      0   \n",
       "2    3 -0.510826  2.691243   74 -1.386294    0 -1.386294        7     20   \n",
       "3    4 -1.203973  3.282789   58 -1.386294    0 -1.386294        6      0   \n",
       "4    5  0.751416  3.432373   62 -1.386294    0 -1.386294        6      0   \n",
       "\n",
       "       lpsa  \n",
       "0 -0.430783  \n",
       "1 -0.162519  \n",
       "2 -0.162519  \n",
       "3 -0.162519  \n",
       "4  0.371564  "
      ]
     },
     "execution_count": 15,
     "metadata": {},
     "output_type": "execute_result"
    }
   ],
   "source": [
    "#C:\\Users\\email\\OneDrive\\Documents\\Sandhya\\Predictive Modeling\\Pred_Models_git-master\\Week 2\\data\n",
    "pathname = 'C:/Users/email/Downloads/Predictive Modelling Misc/data/'\n",
    "df = pd.read_csv(pathname + \"prostate.csv\")#,header = None) \n",
    "df.head()"
   ]
  },
  {
   "cell_type": "code",
   "execution_count": 16,
   "metadata": {},
   "outputs": [],
   "source": [
    "column_list = list(range(0,5)) +[30]+ list(range(101,118)) + list(range(121,125)) + [126]"
   ]
  },
  {
   "cell_type": "code",
   "execution_count": 17,
   "metadata": {},
   "outputs": [],
   "source": [
    "#column_list"
   ]
  },
  {
   "cell_type": "code",
   "execution_count": 18,
   "metadata": {},
   "outputs": [],
   "source": [
    "#df=df.drop(column_list, axis= 1)"
   ]
  },
  {
   "cell_type": "code",
   "execution_count": 19,
   "metadata": {},
   "outputs": [
    {
     "data": {
      "text/plain": [
       "(97, 10)"
      ]
     },
     "execution_count": 19,
     "metadata": {},
     "output_type": "execute_result"
    }
   ],
   "source": [
    "df.shape"
   ]
  },
  {
   "cell_type": "code",
   "execution_count": 20,
   "metadata": {},
   "outputs": [],
   "source": [
    "#com.shape"
   ]
  },
  {
   "cell_type": "code",
   "execution_count": 21,
   "metadata": {},
   "outputs": [
    {
     "data": {
      "text/plain": [
       "Obs          int64\n",
       "lcavol     float64\n",
       "lweight    float64\n",
       "age          int64\n",
       "lbph       float64\n",
       "svi          int64\n",
       "lcp        float64\n",
       "gleason      int64\n",
       "pgg45        int64\n",
       "lpsa       float64\n",
       "dtype: object"
      ]
     },
     "execution_count": 21,
     "metadata": {},
     "output_type": "execute_result"
    }
   ],
   "source": [
    "# all columnswith their data type in the data frame\n",
    "df.dtypes"
   ]
  },
  {
   "cell_type": "code",
   "execution_count": 22,
   "metadata": {},
   "outputs": [
    {
     "data": {
      "text/html": [
       "<div>\n",
       "<style scoped>\n",
       "    .dataframe tbody tr th:only-of-type {\n",
       "        vertical-align: middle;\n",
       "    }\n",
       "\n",
       "    .dataframe tbody tr th {\n",
       "        vertical-align: top;\n",
       "    }\n",
       "\n",
       "    .dataframe thead th {\n",
       "        text-align: right;\n",
       "    }\n",
       "</style>\n",
       "<table border=\"1\" class=\"dataframe\">\n",
       "  <thead>\n",
       "    <tr style=\"text-align: right;\">\n",
       "      <th></th>\n",
       "    </tr>\n",
       "  </thead>\n",
       "  <tbody>\n",
       "    <tr>\n",
       "      <td>0</td>\n",
       "    </tr>\n",
       "    <tr>\n",
       "      <td>1</td>\n",
       "    </tr>\n",
       "    <tr>\n",
       "      <td>2</td>\n",
       "    </tr>\n",
       "  </tbody>\n",
       "</table>\n",
       "</div>"
      ],
      "text/plain": [
       "Empty DataFrame\n",
       "Columns: []\n",
       "Index: [0, 1, 2]"
      ]
     },
     "execution_count": 22,
     "metadata": {},
     "output_type": "execute_result"
    }
   ],
   "source": [
    "# checking for any categorical variable\n",
    "obj_df = df.select_dtypes(include=['object']).copy()\n",
    "\n",
    "# dropping the empty rows at file-end\n",
    "#obj_df.dropna(how=\"all\", inplace=True) \n",
    "obj_df[:3]\n",
    "# no categorical variable"
   ]
  },
  {
   "cell_type": "code",
   "execution_count": 23,
   "metadata": {},
   "outputs": [
    {
     "data": {
      "text/html": [
       "<div>\n",
       "<style scoped>\n",
       "    .dataframe tbody tr th:only-of-type {\n",
       "        vertical-align: middle;\n",
       "    }\n",
       "\n",
       "    .dataframe tbody tr th {\n",
       "        vertical-align: top;\n",
       "    }\n",
       "\n",
       "    .dataframe thead th {\n",
       "        text-align: right;\n",
       "    }\n",
       "</style>\n",
       "<table border=\"1\" class=\"dataframe\">\n",
       "  <thead>\n",
       "    <tr style=\"text-align: right;\">\n",
       "      <th></th>\n",
       "      <th>Obs</th>\n",
       "      <th>lcavol</th>\n",
       "      <th>lweight</th>\n",
       "      <th>age</th>\n",
       "      <th>lbph</th>\n",
       "      <th>svi</th>\n",
       "      <th>lcp</th>\n",
       "      <th>gleason</th>\n",
       "      <th>pgg45</th>\n",
       "      <th>lpsa</th>\n",
       "    </tr>\n",
       "  </thead>\n",
       "  <tbody>\n",
       "    <tr>\n",
       "      <td>count</td>\n",
       "      <td>97.000000</td>\n",
       "      <td>97.000000</td>\n",
       "      <td>97.000000</td>\n",
       "      <td>97.000000</td>\n",
       "      <td>97.000000</td>\n",
       "      <td>97.000000</td>\n",
       "      <td>97.000000</td>\n",
       "      <td>97.000000</td>\n",
       "      <td>97.000000</td>\n",
       "      <td>97.000000</td>\n",
       "    </tr>\n",
       "    <tr>\n",
       "      <td>mean</td>\n",
       "      <td>49.000000</td>\n",
       "      <td>1.350010</td>\n",
       "      <td>3.628943</td>\n",
       "      <td>63.865979</td>\n",
       "      <td>0.100356</td>\n",
       "      <td>0.216495</td>\n",
       "      <td>-0.179366</td>\n",
       "      <td>6.752577</td>\n",
       "      <td>24.381443</td>\n",
       "      <td>2.478387</td>\n",
       "    </tr>\n",
       "    <tr>\n",
       "      <td>std</td>\n",
       "      <td>28.145456</td>\n",
       "      <td>1.178625</td>\n",
       "      <td>0.428411</td>\n",
       "      <td>7.445117</td>\n",
       "      <td>1.450807</td>\n",
       "      <td>0.413995</td>\n",
       "      <td>1.398250</td>\n",
       "      <td>0.722134</td>\n",
       "      <td>28.204035</td>\n",
       "      <td>1.154329</td>\n",
       "    </tr>\n",
       "    <tr>\n",
       "      <td>min</td>\n",
       "      <td>1.000000</td>\n",
       "      <td>-1.347074</td>\n",
       "      <td>2.374906</td>\n",
       "      <td>41.000000</td>\n",
       "      <td>-1.386294</td>\n",
       "      <td>0.000000</td>\n",
       "      <td>-1.386294</td>\n",
       "      <td>6.000000</td>\n",
       "      <td>0.000000</td>\n",
       "      <td>-0.430783</td>\n",
       "    </tr>\n",
       "    <tr>\n",
       "      <td>25%</td>\n",
       "      <td>25.000000</td>\n",
       "      <td>0.512824</td>\n",
       "      <td>3.375880</td>\n",
       "      <td>60.000000</td>\n",
       "      <td>-1.386294</td>\n",
       "      <td>0.000000</td>\n",
       "      <td>-1.386294</td>\n",
       "      <td>6.000000</td>\n",
       "      <td>0.000000</td>\n",
       "      <td>1.731656</td>\n",
       "    </tr>\n",
       "    <tr>\n",
       "      <td>50%</td>\n",
       "      <td>49.000000</td>\n",
       "      <td>1.446919</td>\n",
       "      <td>3.623007</td>\n",
       "      <td>65.000000</td>\n",
       "      <td>0.300105</td>\n",
       "      <td>0.000000</td>\n",
       "      <td>-0.798508</td>\n",
       "      <td>7.000000</td>\n",
       "      <td>15.000000</td>\n",
       "      <td>2.591516</td>\n",
       "    </tr>\n",
       "    <tr>\n",
       "      <td>75%</td>\n",
       "      <td>73.000000</td>\n",
       "      <td>2.127041</td>\n",
       "      <td>3.876396</td>\n",
       "      <td>68.000000</td>\n",
       "      <td>1.558145</td>\n",
       "      <td>0.000000</td>\n",
       "      <td>1.178655</td>\n",
       "      <td>7.000000</td>\n",
       "      <td>40.000000</td>\n",
       "      <td>3.056357</td>\n",
       "    </tr>\n",
       "    <tr>\n",
       "      <td>max</td>\n",
       "      <td>97.000000</td>\n",
       "      <td>3.821004</td>\n",
       "      <td>4.780383</td>\n",
       "      <td>79.000000</td>\n",
       "      <td>2.326302</td>\n",
       "      <td>1.000000</td>\n",
       "      <td>2.904165</td>\n",
       "      <td>9.000000</td>\n",
       "      <td>100.000000</td>\n",
       "      <td>5.582932</td>\n",
       "    </tr>\n",
       "  </tbody>\n",
       "</table>\n",
       "</div>"
      ],
      "text/plain": [
       "             Obs     lcavol    lweight        age       lbph        svi  \\\n",
       "count  97.000000  97.000000  97.000000  97.000000  97.000000  97.000000   \n",
       "mean   49.000000   1.350010   3.628943  63.865979   0.100356   0.216495   \n",
       "std    28.145456   1.178625   0.428411   7.445117   1.450807   0.413995   \n",
       "min     1.000000  -1.347074   2.374906  41.000000  -1.386294   0.000000   \n",
       "25%    25.000000   0.512824   3.375880  60.000000  -1.386294   0.000000   \n",
       "50%    49.000000   1.446919   3.623007  65.000000   0.300105   0.000000   \n",
       "75%    73.000000   2.127041   3.876396  68.000000   1.558145   0.000000   \n",
       "max    97.000000   3.821004   4.780383  79.000000   2.326302   1.000000   \n",
       "\n",
       "             lcp    gleason       pgg45       lpsa  \n",
       "count  97.000000  97.000000   97.000000  97.000000  \n",
       "mean   -0.179366   6.752577   24.381443   2.478387  \n",
       "std     1.398250   0.722134   28.204035   1.154329  \n",
       "min    -1.386294   6.000000    0.000000  -0.430783  \n",
       "25%    -1.386294   6.000000    0.000000   1.731656  \n",
       "50%    -0.798508   7.000000   15.000000   2.591516  \n",
       "75%     1.178655   7.000000   40.000000   3.056357  \n",
       "max     2.904165   9.000000  100.000000   5.582932  "
      ]
     },
     "execution_count": 23,
     "metadata": {},
     "output_type": "execute_result"
    }
   ],
   "source": [
    "# descriptive statistics for all columns\n",
    "df.describe()"
   ]
  },
  {
   "cell_type": "code",
   "execution_count": 24,
   "metadata": {},
   "outputs": [
    {
     "data": {
      "text/plain": [
       "Series([], dtype: int64)"
      ]
     },
     "execution_count": 24,
     "metadata": {},
     "output_type": "execute_result"
    }
   ],
   "source": [
    "# showing columns with missing values\n",
    "nulls = df.isnull().sum()\n",
    "nulls[nulls > 0]"
   ]
  },
  {
   "cell_type": "code",
   "execution_count": 25,
   "metadata": {},
   "outputs": [
    {
     "data": {
      "text/plain": [
       "False"
      ]
     },
     "execution_count": 25,
     "metadata": {},
     "output_type": "execute_result"
    }
   ],
   "source": [
    "# checking any missing value in the dataset\n",
    "#com.describe()\n",
    "#com\n",
    "#com.isnull()\n",
    "df.isnull().values.any()\n",
    "# no NaN value"
   ]
  },
  {
   "cell_type": "code",
   "execution_count": 26,
   "metadata": {},
   "outputs": [
    {
     "name": "stdout",
     "output_type": "stream",
     "text": [
      "<class 'pandas.core.frame.DataFrame'>\n",
      "RangeIndex: 97 entries, 0 to 96\n",
      "Data columns (total 10 columns):\n",
      "Obs        97 non-null int64\n",
      "lcavol     97 non-null float64\n",
      "lweight    97 non-null float64\n",
      "age        97 non-null int64\n",
      "lbph       97 non-null float64\n",
      "svi        97 non-null int64\n",
      "lcp        97 non-null float64\n",
      "gleason    97 non-null int64\n",
      "pgg45      97 non-null int64\n",
      "lpsa       97 non-null float64\n",
      "dtypes: float64(5), int64(5)\n",
      "memory usage: 7.7 KB\n"
     ]
    }
   ],
   "source": [
    "df.info()"
   ]
  },
  {
   "cell_type": "code",
   "execution_count": 27,
   "metadata": {},
   "outputs": [
    {
     "data": {
      "text/html": [
       "<div>\n",
       "<style scoped>\n",
       "    .dataframe tbody tr th:only-of-type {\n",
       "        vertical-align: middle;\n",
       "    }\n",
       "\n",
       "    .dataframe tbody tr th {\n",
       "        vertical-align: top;\n",
       "    }\n",
       "\n",
       "    .dataframe thead th {\n",
       "        text-align: right;\n",
       "    }\n",
       "</style>\n",
       "<table border=\"1\" class=\"dataframe\">\n",
       "  <thead>\n",
       "    <tr style=\"text-align: right;\">\n",
       "      <th></th>\n",
       "      <th>lpsa</th>\n",
       "      <th>Obs</th>\n",
       "      <th>lcavol</th>\n",
       "      <th>lweight</th>\n",
       "      <th>age</th>\n",
       "      <th>lbph</th>\n",
       "      <th>svi</th>\n",
       "      <th>lcp</th>\n",
       "      <th>gleason</th>\n",
       "      <th>pgg45</th>\n",
       "    </tr>\n",
       "  </thead>\n",
       "  <tbody>\n",
       "    <tr>\n",
       "      <td>0</td>\n",
       "      <td>-0.430783</td>\n",
       "      <td>1</td>\n",
       "      <td>-0.579818</td>\n",
       "      <td>2.769459</td>\n",
       "      <td>50</td>\n",
       "      <td>-1.386294</td>\n",
       "      <td>0</td>\n",
       "      <td>-1.386294</td>\n",
       "      <td>6</td>\n",
       "      <td>0</td>\n",
       "    </tr>\n",
       "    <tr>\n",
       "      <td>1</td>\n",
       "      <td>-0.162519</td>\n",
       "      <td>2</td>\n",
       "      <td>-0.994252</td>\n",
       "      <td>3.319626</td>\n",
       "      <td>58</td>\n",
       "      <td>-1.386294</td>\n",
       "      <td>0</td>\n",
       "      <td>-1.386294</td>\n",
       "      <td>6</td>\n",
       "      <td>0</td>\n",
       "    </tr>\n",
       "    <tr>\n",
       "      <td>2</td>\n",
       "      <td>-0.162519</td>\n",
       "      <td>3</td>\n",
       "      <td>-0.510826</td>\n",
       "      <td>2.691243</td>\n",
       "      <td>74</td>\n",
       "      <td>-1.386294</td>\n",
       "      <td>0</td>\n",
       "      <td>-1.386294</td>\n",
       "      <td>7</td>\n",
       "      <td>20</td>\n",
       "    </tr>\n",
       "    <tr>\n",
       "      <td>3</td>\n",
       "      <td>-0.162519</td>\n",
       "      <td>4</td>\n",
       "      <td>-1.203973</td>\n",
       "      <td>3.282789</td>\n",
       "      <td>58</td>\n",
       "      <td>-1.386294</td>\n",
       "      <td>0</td>\n",
       "      <td>-1.386294</td>\n",
       "      <td>6</td>\n",
       "      <td>0</td>\n",
       "    </tr>\n",
       "    <tr>\n",
       "      <td>4</td>\n",
       "      <td>0.371564</td>\n",
       "      <td>5</td>\n",
       "      <td>0.751416</td>\n",
       "      <td>3.432373</td>\n",
       "      <td>62</td>\n",
       "      <td>-1.386294</td>\n",
       "      <td>0</td>\n",
       "      <td>-1.386294</td>\n",
       "      <td>6</td>\n",
       "      <td>0</td>\n",
       "    </tr>\n",
       "    <tr>\n",
       "      <td>5</td>\n",
       "      <td>0.765468</td>\n",
       "      <td>6</td>\n",
       "      <td>-1.049822</td>\n",
       "      <td>3.228826</td>\n",
       "      <td>50</td>\n",
       "      <td>-1.386294</td>\n",
       "      <td>0</td>\n",
       "      <td>-1.386294</td>\n",
       "      <td>6</td>\n",
       "      <td>0</td>\n",
       "    </tr>\n",
       "    <tr>\n",
       "      <td>6</td>\n",
       "      <td>0.765468</td>\n",
       "      <td>7</td>\n",
       "      <td>0.737164</td>\n",
       "      <td>3.473518</td>\n",
       "      <td>64</td>\n",
       "      <td>0.615186</td>\n",
       "      <td>0</td>\n",
       "      <td>-1.386294</td>\n",
       "      <td>6</td>\n",
       "      <td>0</td>\n",
       "    </tr>\n",
       "    <tr>\n",
       "      <td>7</td>\n",
       "      <td>0.854415</td>\n",
       "      <td>8</td>\n",
       "      <td>0.693147</td>\n",
       "      <td>3.539509</td>\n",
       "      <td>58</td>\n",
       "      <td>1.536867</td>\n",
       "      <td>0</td>\n",
       "      <td>-1.386294</td>\n",
       "      <td>6</td>\n",
       "      <td>0</td>\n",
       "    </tr>\n",
       "    <tr>\n",
       "      <td>8</td>\n",
       "      <td>1.047319</td>\n",
       "      <td>9</td>\n",
       "      <td>-0.776529</td>\n",
       "      <td>3.539509</td>\n",
       "      <td>47</td>\n",
       "      <td>-1.386294</td>\n",
       "      <td>0</td>\n",
       "      <td>-1.386294</td>\n",
       "      <td>6</td>\n",
       "      <td>0</td>\n",
       "    </tr>\n",
       "    <tr>\n",
       "      <td>9</td>\n",
       "      <td>1.047319</td>\n",
       "      <td>10</td>\n",
       "      <td>0.223144</td>\n",
       "      <td>3.244544</td>\n",
       "      <td>63</td>\n",
       "      <td>-1.386294</td>\n",
       "      <td>0</td>\n",
       "      <td>-1.386294</td>\n",
       "      <td>6</td>\n",
       "      <td>0</td>\n",
       "    </tr>\n",
       "  </tbody>\n",
       "</table>\n",
       "</div>"
      ],
      "text/plain": [
       "       lpsa  Obs    lcavol   lweight  age      lbph  svi       lcp  gleason  \\\n",
       "0 -0.430783    1 -0.579818  2.769459   50 -1.386294    0 -1.386294        6   \n",
       "1 -0.162519    2 -0.994252  3.319626   58 -1.386294    0 -1.386294        6   \n",
       "2 -0.162519    3 -0.510826  2.691243   74 -1.386294    0 -1.386294        7   \n",
       "3 -0.162519    4 -1.203973  3.282789   58 -1.386294    0 -1.386294        6   \n",
       "4  0.371564    5  0.751416  3.432373   62 -1.386294    0 -1.386294        6   \n",
       "5  0.765468    6 -1.049822  3.228826   50 -1.386294    0 -1.386294        6   \n",
       "6  0.765468    7  0.737164  3.473518   64  0.615186    0 -1.386294        6   \n",
       "7  0.854415    8  0.693147  3.539509   58  1.536867    0 -1.386294        6   \n",
       "8  1.047319    9 -0.776529  3.539509   47 -1.386294    0 -1.386294        6   \n",
       "9  1.047319   10  0.223144  3.244544   63 -1.386294    0 -1.386294        6   \n",
       "\n",
       "   pgg45  \n",
       "0      0  \n",
       "1      0  \n",
       "2     20  \n",
       "3      0  \n",
       "4      0  \n",
       "5      0  \n",
       "6      0  \n",
       "7      0  \n",
       "8      0  \n",
       "9      0  "
      ]
     },
     "execution_count": 27,
     "metadata": {},
     "output_type": "execute_result"
    }
   ],
   "source": [
    "# designate target variable name\n",
    "targetName = 'lpsa'\n",
    "targetSeries = df[targetName]\n",
    "#remove target from current location and insert in column 0\n",
    "del df[targetName]\n",
    "df.insert(0, targetName, targetSeries)\n",
    "#targetSeries #new target \n",
    "#reprint dataframe and see target is in position 0\n",
    "df.head(10)"
   ]
  },
  {
   "cell_type": "code",
   "execution_count": 28,
   "metadata": {},
   "outputs": [
    {
     "data": {
      "image/png": "[encoded data removed]",
      "text/plain": [
       "<Figure size 432x288 with 1 Axes>"
      ]
     },
     "metadata": {
      "needs_background": "light"
     },
     "output_type": "display_data"
    }
   ],
   "source": [
    "# EDA on target variable\n",
    "n, bins, patches = plt.hist(df.lpsa)#, facecolor='blue', alpha=0.75)\n",
    "#plt.ylim(0, 15)\n",
    "plt.xlabel(\"PSA test\")\n",
    "plt.ylabel(\"Frequency\")\n",
    "plt.title('Histogram of log PSA test results')\n",
    "plt.show()"
   ]
  },
  {
   "cell_type": "code",
   "execution_count": 29,
   "metadata": {},
   "outputs": [
    {
     "data": {
      "text/plain": [
       "count    97.000000\n",
       "mean      2.478387\n",
       "std       1.154329\n",
       "min      -0.430783\n",
       "25%       1.731656\n",
       "50%       2.591516\n",
       "75%       3.056357\n",
       "max       5.582932\n",
       "Name: lpsa, dtype: float64"
      ]
     },
     "execution_count": 29,
     "metadata": {},
     "output_type": "execute_result"
    }
   ],
   "source": [
    "df['lpsa'].describe()"
   ]
  },
  {
   "cell_type": "code",
   "execution_count": 30,
   "metadata": {},
   "outputs": [
    {
     "data": {
      "text/plain": [
       "Index(['Obs', 'lcavol', 'lweight', 'age', 'lbph', 'svi', 'lcp', 'gleason',\n",
       "       'pgg45'],\n",
       "      dtype='object')"
      ]
     },
     "execution_count": 30,
     "metadata": {},
     "output_type": "execute_result"
    }
   ],
   "source": [
    "df.columns[1:]"
   ]
  },
  {
   "cell_type": "code",
   "execution_count": 31,
   "metadata": {},
   "outputs": [],
   "source": [
    "df.feature_names = df.columns[1:]\n",
    "#df.feature_names"
   ]
  },
  {
   "cell_type": "code",
   "execution_count": 32,
   "metadata": {},
   "outputs": [],
   "source": [
    "#from sklearn.model_selection import train_test_split\n",
    "#X_train, X_test, y_train, y_test = train_test_split(boston.data, boston.target, test_size=0.25, random_state=33)\n",
    "from sklearn.model_selection import train_test_split\n",
    "# split dataset into testing and training\n",
    "X_train, X_test, Y_train, Y_test = train_test_split(\n",
    "    df.iloc[:,1:].values, df.iloc[:,0].values, test_size=0.3, random_state=3)"
   ]
  },
  {
   "cell_type": "code",
   "execution_count": 33,
   "metadata": {},
   "outputs": [
    {
     "name": "stdout",
     "output_type": "stream",
     "text": [
      "30 30 67 67\n"
     ]
    }
   ],
   "source": [
    "print(len(X_test), len(Y_test),len(X_train),len(Y_train))"
   ]
  },
  {
   "cell_type": "code",
   "execution_count": 34,
   "metadata": {},
   "outputs": [
    {
     "name": "stdout",
     "output_type": "stream",
     "text": [
      "(67, 9)\n",
      "(30, 9)\n",
      "(67,)\n",
      "(30,)\n"
     ]
    }
   ],
   "source": [
    "print(X_train.shape)\n",
    "print(X_test.shape)\n",
    "\n",
    "print(Y_train.shape)\n",
    "print(Y_test.shape)\n"
   ]
  },
  {
   "cell_type": "markdown",
   "metadata": {},
   "source": [
    "###  Ridge Regression\n",
    "So ridge regression puts constraint on the coefficients (w). The penalty term (lambda) regularizes the coefficients such that if the coefficients take large values the optimization function is penalized. So, ridge regression shrinks the coefficients and it helps to reduce the model complexity and multi-collinearity."
   ]
  },
  {
   "cell_type": "code",
   "execution_count": 35,
   "metadata": {},
   "outputs": [
    {
     "name": "stdout",
     "output_type": "stream",
     "text": [
      "Ridge(alpha=0.1)\n",
      "0.10024864942146723\n",
      "0.9243366613080282\n"
     ]
    }
   ],
   "source": [
    "# Ridge Regression\n",
    "import numpy as np\n",
    "from sklearn import datasets\n",
    "from sklearn.linear_model import Ridge\n",
    "# load the diabetes datasets\n",
    "#dataset = datasets.load_diabetes()\n",
    "# fit a ridge regression model to the data\n",
    "model = Ridge(alpha=0.1)\n",
    "model.fit(X_train, Y_train)\n",
    "print(model)\n",
    "# make predictions\n",
    "expected = Y_train\n",
    "predicted = model.predict(X_train)\n",
    "# summarize the fit of the model\n",
    "mse = np.mean((predicted-expected)**2)\n",
    "print(mse)\n",
    "print(model.score(X_train, Y_train))"
   ]
  },
  {
   "cell_type": "markdown",
   "metadata": {},
   "source": [
    "### Lasso Regression\n",
    "So Lasso regression not only helps in reducing over-fitting but it can help us in feature selection. Just like Ridge regression the regularization parameter (lambda) can be controlled "
   ]
  },
  {
   "cell_type": "code",
   "execution_count": 36,
   "metadata": {},
   "outputs": [
    {
     "name": "stdout",
     "output_type": "stream",
     "text": [
      "Lasso(alpha=0.1)\n",
      "0.11581398476437711\n",
      "0.9125886203448698\n"
     ]
    }
   ],
   "source": [
    "# Lasso Regression\n",
    "# fit a LASSO model to the data\n",
    "from sklearn.linear_model import Lasso\n",
    "model = Lasso(alpha=0.1)\n",
    "model.fit(X_train, Y_train)\n",
    "print(model)\n",
    "# make predictions\n",
    "expected = Y_train\n",
    "predicted = model.predict(X_train)\n",
    "# summarize the fit of the model\n",
    "mse = np.mean((predicted-expected)**2)\n",
    "print(mse)\n",
    "print(model.score(X_train, Y_train))"
   ]
  },
  {
   "cell_type": "markdown",
   "metadata": {},
   "source": [
    "### ElasticNet Regression"
   ]
  },
  {
   "cell_type": "code",
   "execution_count": 37,
   "metadata": {},
   "outputs": [
    {
     "name": "stdout",
     "output_type": "stream",
     "text": [
      "ElasticNet(alpha=0.1)\n",
      "0.10737563817445357\n",
      "0.918957518875855\n"
     ]
    }
   ],
   "source": [
    "# ElasticNet Regression\n",
    "# fit a model to the data\n",
    "from sklearn.linear_model import ElasticNet\n",
    "model = ElasticNet(alpha=0.1)\n",
    "model.fit(X_train, Y_train)\n",
    "print(model)\n",
    "# make predictions\n",
    "expected = Y_train\n",
    "predicted = model.predict(X_train)\n",
    "# summarize the fit of the model\n",
    "mse = np.mean((predicted-expected)**2)\n",
    "print(mse)\n",
    "print(model.score(X_train, Y_train))"
   ]
  },
  {
   "cell_type": "markdown",
   "metadata": {},
   "source": [
    "Estimating Violent Crimes per population using Linear Regression"
   ]
  },
  {
   "cell_type": "code",
   "execution_count": 38,
   "metadata": {},
   "outputs": [
    {
     "name": "stdout",
     "output_type": "stream",
     "text": [
      "100.0 -1.38629436 16.33087852218408 5.5829322 -0.4307829000000001 2.434313567164179\n"
     ]
    }
   ],
   "source": [
    "print(np.max(X_train), np.min(X_train), np.mean(X_train), np.max(Y_train), np.min(Y_train), np.mean(Y_train))"
   ]
  },
  {
   "cell_type": "code",
   "execution_count": 39,
   "metadata": {},
   "outputs": [],
   "source": [
    "#X_new\n",
    "#X_new[:,0]"
   ]
  },
  {
   "cell_type": "markdown",
   "metadata": {},
   "source": [
    "Find the most important features"
   ]
  },
  {
   "cell_type": "code",
   "execution_count": 40,
   "metadata": {},
   "outputs": [
    {
     "name": "stdout",
     "output_type": "stream",
     "text": [
      "<zip object at 0x000001EFE975A5C8>\n"
     ]
    },
    {
     "data": {
      "image/png": "[encoded data removed]",
      "text/plain": [
       "<Figure size 864x864 with 5 Axes>"
      ]
     },
     "metadata": {
      "needs_background": "light"
     },
     "output_type": "display_data"
    }
   ],
   "source": [
    "\n",
    "from sklearn.feature_selection import SelectKBest\n",
    "from sklearn.feature_selection import chi2\n",
    "from sklearn.feature_selection import *\n",
    "fs=SelectKBest(score_func=f_regression,k=5)\n",
    "X_new=fs.fit_transform(X_train,Y_train)\n",
    "print(zip(fs.get_support(),df.feature_names))\n",
    "#print(X_new.scores_)\n",
    "x_min, x_max = X_new[:,0].min() - .5, X_new[:, 0].max() + .5\n",
    "y_min, y_max = Y_train.min() - .5, Y_train.max() + .5\n",
    "#fig=plt.figure()\n",
    "#fig.subplots_adjust(left=0, right=1, bottom=0, top=1, hspace=0.05, wspace=0.05)\n",
    "\n",
    "# Two subplots, unpack the axes array immediately\n",
    "fig, axes = plt.subplots(1,5)\n",
    "fig.set_size_inches(12,12)\n",
    "\n",
    "for i in range(5):\n",
    "    axes[i].set_aspect('equal')\n",
    "    axes[i].set_title('Feature ' + str(i))\n",
    "    axes[i].set_xlabel('Feature')\n",
    "    axes[i].set_ylabel('log PSA test results')\n",
    "    axes[i].set_xlim(x_min, x_max)\n",
    "    axes[i].set_ylim(y_min, y_max)\n",
    "    plt.sca(axes[i])\n",
    "    plt.scatter(X_new[:,i],Y_train)"
   ]
  },
  {
   "cell_type": "markdown",
   "metadata": {},
   "source": [
    "Normalizing data"
   ]
  },
  {
   "cell_type": "code",
   "execution_count": 41,
   "metadata": {},
   "outputs": [
    {
     "name": "stdout",
     "output_type": "stream",
     "text": [
      "3.226672515938694 -3.0604592774286976 -7.070076972737315e-17 5.5829322 -0.4307829000000001 2.434313567164179\n"
     ]
    }
   ],
   "source": [
    "from sklearn.preprocessing import StandardScaler\n",
    "X_train = StandardScaler().fit_transform(X_train)\n",
    "#scalerX = StandardScaler().fit(X_train)\n",
    "#scalery = StandardScaler().fit(y_train)\n",
    "\n",
    "#X_train = scalerX.transform(X_train)\n",
    "#y_train = StandardScaler().fit_transform((y_train)\n",
    "X_test = StandardScaler().fit_transform(X_test)\n",
    "#y_test = StandardScaler().fit_transform(y_test)\n",
    "\n",
    "print(np.max(X_train), np.min(X_train), np.mean(X_train), np.max(Y_train), np.min(Y_train), np.mean(Y_train))"
   ]
  },
  {
   "cell_type": "markdown",
   "metadata": {},
   "source": [
    "Start with a lineal model, SGDRegressor, that tries to find the hyperplane that minimizes a certain loss function (typically, the sum of squared distances from each instance to the hyperplane). It uses Stochastic Gradient Descent to find the minimum. "
   ]
  },
  {
   "cell_type": "code",
   "execution_count": 42,
   "metadata": {},
   "outputs": [],
   "source": [
    "from sklearn.model_selection import *\n",
    "def train_and_evaluate(clf, X_train, Y_train):\n",
    "    \n",
    "    clf.fit(X_train, Y_train)\n",
    "    \n",
    "    print(\"Coefficient of determination on training set:\",clf.score(X_train, Y_train))\n",
    "    \n",
    "    # create a k-fold croos validation iterator of k=5 folds\n",
    "    scores = cross_val_score(clf, X_train, Y_train, cv=5)\n",
    "    print(\"Average coefficient of determination using 5-fold crossvalidation:\",np.mean(scores))"
   ]
  },
  {
   "cell_type": "code",
   "execution_count": 43,
   "metadata": {},
   "outputs": [
    {
     "name": "stdout",
     "output_type": "stream",
     "text": [
      "SGDRegressor(penalty=None, random_state=42, shuffle=False)\n",
      "Coefficient of determination on training set: 0.9115546741050975\n",
      "Average coefficient of determination using 5-fold crossvalidation: 0.8244994492215343\n",
      "[ 0.79289509  0.25561762  0.10120684 -0.06401495  0.05474939  0.08627919\n",
      "  0.02594402 -0.0102192  -0.0475066 ]\n"
     ]
    }
   ],
   "source": [
    "from sklearn import linear_model\n",
    "clf_sgd = linear_model.SGDRegressor(loss='squared_loss', penalty=None,  random_state=42, shuffle=False)\n",
    "print(clf_sgd)\n",
    "train_and_evaluate(clf_sgd,X_train,Y_train)\n",
    "print(clf_sgd.coef_)"
   ]
  },
  {
   "cell_type": "code",
   "execution_count": 44,
   "metadata": {},
   "outputs": [
    {
     "name": "stdout",
     "output_type": "stream",
     "text": [
      "Coefficient of determination on training set: 0.912550932856899\n",
      "Average coefficient of determination using 5-fold crossvalidation: 0.8226114829831348\n"
     ]
    }
   ],
   "source": [
    "clf_sgd1 = linear_model.SGDRegressor(loss='squared_loss', penalty='l2',  random_state=42)\n",
    "train_and_evaluate(clf_sgd1,X_train,Y_train)"
   ]
  },
  {
   "cell_type": "code",
   "execution_count": 45,
   "metadata": {},
   "outputs": [
    {
     "name": "stdout",
     "output_type": "stream",
     "text": [
      "Coefficient of determination on training set: 0.9125673533908402\n",
      "Average coefficient of determination using 5-fold crossvalidation: 0.8226687961250541\n"
     ]
    }
   ],
   "source": [
    "clf_sgd2 = linear_model.SGDRegressor(loss='squared_loss', penalty='l1',  random_state=42)\n",
    "train_and_evaluate(clf_sgd2,X_train,Y_train)"
   ]
  },
  {
   "cell_type": "code",
   "execution_count": 46,
   "metadata": {},
   "outputs": [
    {
     "name": "stdout",
     "output_type": "stream",
     "text": [
      "Coefficient of determination on training set: 0.9125534028724155\n",
      "Average coefficient of determination using 5-fold crossvalidation: 0.8226201108903579\n"
     ]
    }
   ],
   "source": [
    "clf_sgd3 = linear_model.SGDRegressor(loss='squared_loss', penalty='elasticnet',  random_state=42)\n",
    "train_and_evaluate(clf_sgd3,X_train,Y_train)"
   ]
  },
  {
   "cell_type": "markdown",
   "metadata": {},
   "source": [
    "Ridge regression"
   ]
  },
  {
   "cell_type": "code",
   "execution_count": 47,
   "metadata": {},
   "outputs": [
    {
     "name": "stdout",
     "output_type": "stream",
     "text": [
      "Coefficient of determination on training set: 0.9239372829402736\n",
      "Average coefficient of determination using 5-fold crossvalidation: 0.8711922701274961\n"
     ]
    }
   ],
   "source": [
    "clf_ridge = linear_model.Ridge()\n",
    "train_and_evaluate(clf_ridge,X_train,Y_train)"
   ]
  },
  {
   "cell_type": "markdown",
   "metadata": {},
   "source": [
    "SVR"
   ]
  },
  {
   "cell_type": "code",
   "execution_count": 48,
   "metadata": {},
   "outputs": [
    {
     "name": "stdout",
     "output_type": "stream",
     "text": [
      "Coefficient of determination on training set: 0.9008946705824896\n",
      "Average coefficient of determination using 5-fold crossvalidation: 0.8719445878735282\n"
     ]
    }
   ],
   "source": [
    "from sklearn import svm\n",
    "clf_svr= svm.SVR(kernel='linear')\n",
    "train_and_evaluate(clf_svr,X_train,Y_train)"
   ]
  },
  {
   "cell_type": "code",
   "execution_count": 49,
   "metadata": {},
   "outputs": [
    {
     "name": "stdout",
     "output_type": "stream",
     "text": [
      "Coefficient of determination on training set: 0.9619957954073874\n",
      "Average coefficient of determination using 5-fold crossvalidation: 0.8034103219366113\n"
     ]
    }
   ],
   "source": [
    "clf_svr_poly= svm.SVR(kernel='poly')\n",
    "train_and_evaluate(clf_svr_poly,X_train,Y_train)"
   ]
  },
  {
   "cell_type": "code",
   "execution_count": 50,
   "metadata": {},
   "outputs": [
    {
     "name": "stdout",
     "output_type": "stream",
     "text": [
      "Coefficient of determination on training set: 0.8840448216147875\n",
      "Average coefficient of determination using 5-fold crossvalidation: 0.6744433839197801\n"
     ]
    }
   ],
   "source": [
    "clf_svr_rbf= svm.SVR(kernel='rbf')\n",
    "train_and_evaluate(clf_svr_rbf,X_train,Y_train)"
   ]
  },
  {
   "cell_type": "code",
   "execution_count": 51,
   "metadata": {},
   "outputs": [
    {
     "name": "stdout",
     "output_type": "stream",
     "text": [
      "Coefficient of determination on training set: 0.5642151854771975\n",
      "Average coefficient of determination using 5-fold crossvalidation: -0.33400097939217605\n"
     ]
    }
   ],
   "source": [
    "clf_svr_poly2= svm.SVR(kernel='poly',degree=2)\n",
    "train_and_evaluate(clf_svr_poly2,X_train,Y_train)"
   ]
  },
  {
   "cell_type": "markdown",
   "metadata": {},
   "source": [
    "Finally, let's try again Random Forests, in their Extra Trees, and Regression version"
   ]
  },
  {
   "cell_type": "code",
   "execution_count": 52,
   "metadata": {},
   "outputs": [
    {
     "name": "stdout",
     "output_type": "stream",
     "text": [
      "Coefficient of determination on training set: 1.0\n",
      "Average coefficient of determination using 5-fold crossvalidation: 0.9237917337964021\n"
     ]
    }
   ],
   "source": [
    "from sklearn import ensemble\n",
    "clf_et=ensemble.ExtraTreesRegressor(n_estimators=10,random_state=42)\n",
    "train_and_evaluate(clf_et,X_train,Y_train)"
   ]
  },
  {
   "cell_type": "code",
   "execution_count": 53,
   "metadata": {},
   "outputs": [
    {
     "name": "stdout",
     "output_type": "stream",
     "text": [
      "[0.79410652 0.05071188 0.01463513 0.00488202 0.00501787 0.10887742\n",
      " 0.0126284  0.00183213 0.00730864] Index(['Obs', 'lcavol', 'lweight', 'age', 'lbph', 'svi', 'lcp', 'gleason',\n",
      "       'pgg45'],\n",
      "      dtype='object')\n"
     ]
    }
   ],
   "source": [
    "print(clf_et.feature_importances_,df.feature_names)#com.feature_names"
   ]
  },
  {
   "cell_type": "markdown",
   "metadata": {},
   "source": [
    "Finally, evaluate our classifiers on the testing set"
   ]
  },
  {
   "cell_type": "code",
   "execution_count": 54,
   "metadata": {},
   "outputs": [
    {
     "name": "stdout",
     "output_type": "stream",
     "text": [
      "Coefficient of determination:0.956 \n",
      "\n"
     ]
    }
   ],
   "source": [
    "from sklearn import metrics\n",
    "def measure_performance(X,Y,clf, show_accuracy=True, show_classification_report=True, show_confusion_matrix=True, show_r2_score=False):\n",
    "    y_pred=clf.predict(X)   \n",
    "    if show_accuracy:\n",
    "        print(\"Accuracy:{0:.3f}\".format(metrics.accuracy_score(Y,y_pred)),\"\\n\")\n",
    "\n",
    "    if show_classification_report:\n",
    "        print(\"Classification report\")\n",
    "        print(metrics.classification_report(Y,y_pred),\"\\n\")\n",
    "        \n",
    "    if show_confusion_matrix:\n",
    "        print(\"Confusion matrix\")\n",
    "        print(metrics.confusion_matrix(Y,y_pred),\"\\n\")\n",
    "        \n",
    "    if show_r2_score:\n",
    "        print(\"Coefficient of determination:{0:.3f}\".format(metrics.r2_score(Y,y_pred)),\"\\n\")\n",
    "\n",
    "        \n",
    "measure_performance(X_test,Y_test,clf_et, show_accuracy=False, show_classification_report=False,show_confusion_matrix=False, show_r2_score=True)\n",
    "\n"
   ]
  },
  {
   "cell_type": "markdown",
   "metadata": {},
   "source": [
    "###   The End:"
   ]
  }
 ],
 "metadata": {
  "anaconda-cloud": {},
  "kernelspec": {
   "display_name": "Python 3",
   "language": "python",
   "name": "python3"
  },
  "language_info": {
   "codemirror_mode": {
    "name": "ipython",
    "version": 3
   },
   "file_extension": ".py",
   "mimetype": "text/x-python",
   "name": "python",
   "nbconvert_exporter": "python",
   "pygments_lexer": "ipython3",
   "version": "3.7.4"
  }
 },
 "nbformat": 4,
 "nbformat_minor": 1
}
